{
 "cells": [
  {
   "cell_type": "code",
   "execution_count": 125,
   "metadata": {},
   "outputs": [],
   "source": [
    "import numpy as np\n",
    "import matplotlib.pyplot as plt\n"
   ]
  },
  {
   "cell_type": "code",
   "execution_count": 341,
   "metadata": {},
   "outputs": [],
   "source": [
    "class FLAG:\n",
    "    def __init__(self):\n",
    "        self.img_shape = [256, 256, 3]\n",
    "        self.vertical_margin = 0\n",
    "        self.horizontal_margin = 0\n",
    "        self.height = 128\n",
    "        self.width = 128\n",
    "        self.max_delta_height= 32\n",
    "        self.max_delta_width= 32"
   ]
  },
  {
   "cell_type": "code",
   "execution_count": 342,
   "metadata": {},
   "outputs": [],
   "source": [
    "FLAGS = FLAG()"
   ]
  },
  {
   "cell_type": "code",
   "execution_count": 263,
   "metadata": {},
   "outputs": [
    {
     "data": {
      "text/plain": [
       "(21, 39, 128, 128)"
      ]
     },
     "execution_count": 263,
     "metadata": {},
     "output_type": "execute_result"
    }
   ],
   "source": [
    "img_shape = FLAGS.img_shape\n",
    "img_height = img_shape[0]\n",
    "img_width = img_shape[1]\n",
    "maxt = img_height - FLAGS.vertical_margin - FLAGS.height\n",
    "maxl = img_width - FLAGS.horizontal_margin - FLAGS.width\n",
    "t = int(np.random.uniform(size = [], low=FLAGS.vertical_margin, high=maxt).tolist())\n",
    "l = int(np.random.uniform(size = [], low=FLAGS.horizontal_margin, high=maxl).tolist())\n",
    "h = int(FLAGS.height)\n",
    "w = int(FLAGS.width)\n",
    "\n",
    "bbox = (t, l, h, w)\n",
    "bbox"
   ]
  },
  {
   "cell_type": "code",
   "execution_count": 264,
   "metadata": {},
   "outputs": [
    {
     "data": {
      "text/plain": [
       "(0, 128, 128)"
      ]
     },
     "execution_count": 264,
     "metadata": {},
     "output_type": "execute_result"
    }
   ],
   "source": [
    "FLAGS.vertical_margin, maxt, maxl"
   ]
  },
  {
   "cell_type": "code",
   "execution_count": 265,
   "metadata": {},
   "outputs": [
    {
     "data": {
      "text/plain": [
       "([1, 128, 128, 1], (21, 39, 128, 128))"
      ]
     },
     "execution_count": 265,
     "metadata": {},
     "output_type": "execute_result"
    }
   ],
   "source": [
    "[1] + [h,w] + [1], bbox"
   ]
  },
  {
   "cell_type": "code",
   "execution_count": 266,
   "metadata": {},
   "outputs": [],
   "source": [
    "mask = np.zeros((1, h, w, 1), np.float32)\n",
    "h2 = np.random.randint(FLAGS.max_delta_height//2+1)\n",
    "w2 = np.random.randint(FLAGS.max_delta_width//2+1)\n",
    "mask[:, bbox[0]+h2:bbox[0]+bbox[2]-h2,          # 128 + 5 : 128 - 5 \n",
    "        bbox[1]+w2:bbox[1]+bbox[3]-w2, :] = 1.  # 128 + 5 : 128 - 5\n",
    "# mask"
   ]
  },
  {
   "cell_type": "code",
   "execution_count": 351,
   "metadata": {},
   "outputs": [
    {
     "data": {
      "text/plain": [
       "(29, 11, 128, 128)"
      ]
     },
     "execution_count": 351,
     "metadata": {},
     "output_type": "execute_result"
    }
   ],
   "source": [
    "img_shape = FLAGS.img_shape\n",
    "img_height = img_shape[0]\n",
    "img_width = img_shape[1]\n",
    "maxt = img_height - FLAGS.vertical_margin - FLAGS.height\n",
    "maxl = img_width - FLAGS.horizontal_margin - FLAGS.width\n",
    "t = int(np.random.uniform(size = [], low=FLAGS.vertical_margin, high=maxt).tolist())\n",
    "l = int(np.random.uniform(size = [], low=FLAGS.horizontal_margin, high=maxl).tolist())\n",
    "h = int(FLAGS.height)\n",
    "w = int(FLAGS.width)\n",
    "bbox = (t, l, h, w)\n",
    "bbox"
   ]
  },
  {
   "cell_type": "code",
   "execution_count": 358,
   "metadata": {},
   "outputs": [
    {
     "data": {
      "text/plain": [
       "(12, 12)"
      ]
     },
     "execution_count": 358,
     "metadata": {},
     "output_type": "execute_result"
    },
    {
     "data": {
      "image/png": "[encoded data removed]",
      "text/plain": [
       "<Figure size 640x480 with 1 Axes>"
      ]
     },
     "metadata": {},
     "output_type": "display_data"
    }
   ],
   "source": [
    "mask = np.zeros((1, img_height, img_width, 1), np.float32)\n",
    "h2 = np.random.randint(FLAGS.max_delta_height//2+1)\n",
    "w2 = np.random.randint(FLAGS.max_delta_width//2+1)\n",
    "mask[:, bbox[0]+h2:bbox[0]+bbox[2]-h2,          # T + 5 : T + 128 - 5 \n",
    "        bbox[1]+w2:bbox[1]+bbox[3]-w2, :] = 1.  # L + 5 : L + 128 - 5\n",
    "mask.reshape([1] + [img_height,img_width] + [1])\n",
    "plt.imshow(np.reshape(mask, img_shape[:2]), 'gray');\n",
    "plt.plot(bbox[1],bbox[0], marker = '.', c = 'red');\n",
    "h2, w2"
   ]
  },
  {
   "cell_type": "code",
   "execution_count": 1,
   "metadata": {},
   "outputs": [
    {
     "data": {
      "text/plain": [
       "5"
      ]
     },
     "execution_count": 1,
     "metadata": {},
     "output_type": "execute_result"
    }
   ],
   "source": [
    "dummy = (5, 6, 7, 8, 9)\n",
    "b, *_ = dummy\n",
    "b"
   ]
  },
  {
   "cell_type": "code",
   "execution_count": null,
   "metadata": {},
   "outputs": [],
   "source": []
  }
 ],
 "metadata": {
  "kernelspec": {
   "display_name": "rsenv",
   "language": "python",
   "name": "python3"
  },
  "language_info": {
   "codemirror_mode": {
    "name": "ipython",
    "version": 3
   },
   "file_extension": ".py",
   "mimetype": "text/x-python",
   "name": "python",
   "nbconvert_exporter": "python",
   "pygments_lexer": "ipython3",
   "version": "3.10.9"
  }
 },
 "nbformat": 4,
 "nbformat_minor": 2
}
