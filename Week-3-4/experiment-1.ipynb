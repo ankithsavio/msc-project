{
 "cells": [
  {
   "cell_type": "code",
   "execution_count": 1,
   "metadata": {},
   "outputs": [],
   "source": [
    "# %load_ext autoreload\n",
    "# %autoreload 2\n",
    "import os\n",
    "import torch\n",
    "from skimage import io, measure\n",
    "import numpy as np\n",
    "import matplotlib.pyplot as plt\n",
    "\n",
    "from tifffile import imread, imsave\n",
    "\n",
    "import warnings\n",
    "warnings.filterwarnings('ignore')\n",
    "\n",
    "from tifffile import imread\n",
    "\n",
    "if not torch.cuda.is_available():\n",
    "    raise ValueError(\"GPU not found, code will run on CPU and can be extremely slow!\")\n",
    "else:\n",
    "    device = torch.device(\"cuda:0\")\n",
    "\n",
    "import time\n",
    "from glob import glob\n",
    "import pytorch_lightning as pl\n",
    "from pytorch_lightning.callbacks import LearningRateMonitor, ModelCheckpoint, EarlyStopping\n",
    "import torch.optim as optim\n",
    "import torch.utils.data as dt\n",
    "\n",
    "\n",
    "import os\n",
    "os.chdir('/mnt/c/Users/ankit/Desktop/Msc AIML/msc-project/GAP/gap')\n",
    "from GAP_UNET_ResBlockv2 import UN\n",
    "from BinomDatasetv3 import BinomDataset\n",
    "from inference import sample_image\n",
    "from tasks import inpainting"
   ]
  },
  {
   "cell_type": "code",
   "execution_count": 2,
   "metadata": {},
   "outputs": [],
   "source": [
    "masks = inpainting()\n",
    "mask = torch.from_numpy(masks.generate_mask()).to(device)\n",
    "model = UN(channels= 1, levels= 10, depth= 6, mask = mask).to(device)"
   ]
  },
  {
   "cell_type": "code",
   "execution_count": 3,
   "metadata": {},
   "outputs": [
    {
     "data": {
      "text/plain": [
       "tensor([[[[-0.0929, -0.0403,  0.0177,  ..., -0.0483, -0.0951, -0.0140],\n",
       "          [-0.1916, -0.1182, -0.0341,  ..., -0.0264, -0.0816, -0.1234],\n",
       "          [-0.1767, -0.2549, -0.0838,  ...,  0.0911, -0.0320, -0.0387],\n",
       "          ...,\n",
       "          [-0.2426, -0.2220, -0.2998,  ..., -0.1469, -0.2865, -0.1250],\n",
       "          [-0.1445, -0.2621, -0.1979,  ..., -0.1423, -0.1817, -0.1009],\n",
       "          [-0.2388, -0.2272, -0.1696,  ..., -0.1161, -0.1528, -0.0263]]]],\n",
       "       device='cuda:0', grad_fn=<ConvolutionBackward0>)"
      ]
     },
     "execution_count": 3,
     "metadata": {},
     "output_type": "execute_result"
    }
   ],
   "source": [
    "dummy_data = torch.ones((1, 2, 256, 256)).to(device)\n",
    "model(dummy_data)"
   ]
  },
  {
   "cell_type": "code",
   "execution_count": null,
   "metadata": {},
   "outputs": [],
   "source": []
  }
 ],
 "metadata": {
  "kernelspec": {
   "display_name": "base",
   "language": "python",
   "name": "python3"
  },
  "language_info": {
   "codemirror_mode": {
    "name": "ipython",
    "version": 3
   },
   "file_extension": ".py",
   "mimetype": "text/x-python",
   "name": "python",
   "nbconvert_exporter": "python",
   "pygments_lexer": "ipython3",
   "version": "3.10.9"
  }
 },
 "nbformat": 4,
 "nbformat_minor": 2
}
