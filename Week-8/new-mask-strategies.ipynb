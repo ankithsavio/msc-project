{
 "cells": [
  {
   "cell_type": "code",
   "execution_count": 13,
   "metadata": {},
   "outputs": [
    {
     "data": {
      "text/plain": [
       "'\\nCredits : https://github.com/JiahuiYu/generative_inpainting/blob/master/inpaint_ops.py#L126\\n\\n'"
      ]
     },
     "execution_count": 13,
     "metadata": {},
     "output_type": "execute_result"
    }
   ],
   "source": [
    "import numpy as np\n",
    "import matplotlib.pyplot as plt\n",
    "import torch\n",
    "from PIL import Image, ImageDraw\n",
    "import math\n",
    "import os\n",
    "os.chdir('/mnt/c/Users/ankit/Desktop/Msc AIML/msc-project/GAP/gap/')\n",
    "from tasks import inpainting\n",
    "'''\n",
    "Credits : https://github.com/JiahuiYu/generative_inpainting/blob/master/inpaint_ops.py#L126\n",
    "\n",
    "'''"
   ]
  },
  {
   "cell_type": "code",
   "execution_count": 9,
   "metadata": {},
   "outputs": [
    {
     "data": {
      "text/plain": [
       "(256, 256)"
      ]
     },
     "execution_count": 9,
     "metadata": {},
     "output_type": "execute_result"
    }
   ],
   "source": [
    "class FlagInit:\n",
    "    img_shapes = (256, 256)\n",
    "    max_delta_height = 32\n",
    "    max_delta_width = 32\n",
    "\n",
    "FLAGS = FlagInit()\n",
    "FLAGS.img_shapes"
   ]
  },
  {
   "cell_type": "code",
   "execution_count": 98,
   "metadata": {},
   "outputs": [],
   "source": [
    "inpainter = inpainting()"
   ]
  },
  {
   "cell_type": "code",
   "execution_count": 10,
   "metadata": {},
   "outputs": [],
   "source": [
    "def bbox2mask(FLAGS, bbox):\n",
    "    \"\"\"Generate mask tensor from bbox.\n",
    "\n",
    "    Args:\n",
    "        bbox: tuple, (top, left, height, width)\n",
    "\n",
    "    Returns:\n",
    "        tf.Tensor: output with shape [1, H, W, 1]\n",
    "\n",
    "    \"\"\"\n",
    "    def npmask(bbox, height, width, delta_h, delta_w):\n",
    "        mask = np.zeros((1, height, width, 1), np.float32)\n",
    "        h = np.random.randint(delta_h//2+1)\n",
    "        w = np.random.randint(delta_w//2+1)\n",
    "        mask[:, bbox[0]+h:bbox[0]+bbox[2]-h,\n",
    "             bbox[1]+w:bbox[1]+bbox[3]-w, :] = 1.\n",
    "        return mask\n",
    "    img_shape = FLAGS.img_shapes\n",
    "    height = img_shape[0]\n",
    "    width = img_shape[1]\n",
    "    mask = npmask(bbox, height, width, FLAGS.max_delta_height, FLAGS.max_delta_width)\n",
    "    mask.reshape(([1] + [height, width] + [1]))\n",
    "    return mask\n",
    "\n"
   ]
  },
  {
   "cell_type": "code",
   "execution_count": 100,
   "metadata": {},
   "outputs": [],
   "source": [
    "def brush_stroke_mask(FLAGS):\n",
    "    \"\"\"Generate mask tensor from bbox.\n",
    "\n",
    "    Returns:\n",
    "        tf.Tensor: output with shape [1, H, W, 1]\n",
    "\n",
    "    \"\"\"\n",
    "    min_num_vertex = 4\n",
    "    max_num_vertex = 12\n",
    "    mean_angle = 2*math.pi / 5\n",
    "    angle_range = 2*math.pi / 15\n",
    "    min_width = 12\n",
    "    max_width = 40\n",
    "    def generate_mask(H, W):\n",
    "        average_radius = math.sqrt(H*H+W*W) / 8\n",
    "        mask = Image.new('L', (W, H), 0)\n",
    "\n",
    "        for _ in range(np.random.randint(1, 4)):\n",
    "            num_vertex = np.random.randint(min_num_vertex, max_num_vertex)\n",
    "            angle_min = mean_angle - np.random.uniform(0, angle_range)\n",
    "            angle_max = mean_angle + np.random.uniform(0, angle_range)\n",
    "            angles = []\n",
    "            vertex = []\n",
    "            for i in range(num_vertex):\n",
    "                if i % 2 == 0:\n",
    "                    angles.append(2*math.pi - np.random.uniform(angle_min, angle_max))\n",
    "                else:\n",
    "                    angles.append(np.random.uniform(angle_min, angle_max))\n",
    "\n",
    "            h, w = mask.size\n",
    "            vertex.append((int(np.random.randint(0, w)), int(np.random.randint(0, h))))\n",
    "            for i in range(num_vertex):\n",
    "                r = np.clip(\n",
    "                    np.random.normal(loc=average_radius, scale=average_radius//2),\n",
    "                    0, 2*average_radius)\n",
    "                new_x = np.clip(vertex[-1][0] + r * math.cos(angles[i]), 0, w)\n",
    "                new_y = np.clip(vertex[-1][1] + r * math.sin(angles[i]), 0, h)\n",
    "                vertex.append((int(new_x), int(new_y)))\n",
    "\n",
    "            draw = ImageDraw.Draw(mask)\n",
    "            width = int(np.random.uniform(min_width, max_width))\n",
    "            draw.line(vertex, fill=1, width=width)\n",
    "            for v in vertex:\n",
    "                draw.ellipse((v[0] - width//2,\n",
    "                              v[1] - width//2,\n",
    "                              v[0] + width//2,\n",
    "                              v[1] + width//2),\n",
    "                             fill=1)\n",
    "\n",
    "        if np.random.normal() > 0:\n",
    "            mask.transpose(Image.FLIP_LEFT_RIGHT)\n",
    "        if np.random.normal() > 0:\n",
    "            mask.transpose(Image.FLIP_TOP_BOTTOM)\n",
    "        mask = np.asarray(mask, np.float32)\n",
    "        mask = np.reshape(mask, (1, H, W, 1))\n",
    "        return mask\n",
    "    img_shape = FLAGS.img_shapes\n",
    "    height = img_shape[0]\n",
    "    width = img_shape[1]\n",
    "    mask = generate_mask(height, width)\n",
    "    mask = mask.reshape(([1] + [height, width]))\n",
    "    return torch.from_numpy(mask)\n"
   ]
  },
  {
   "cell_type": "code",
   "execution_count": 101,
   "metadata": {},
   "outputs": [
    {
     "data": {
      "text/plain": [
       "torch.Size([1, 256, 256])"
      ]
     },
     "execution_count": 101,
     "metadata": {},
     "output_type": "execute_result"
    }
   ],
   "source": [
    "brush_stroke_mask(FLAGS).shape"
   ]
  },
  {
   "cell_type": "code",
   "execution_count": 96,
   "metadata": {},
   "outputs": [
    {
     "data": {
      "text/plain": [
       "<matplotlib.image.AxesImage at 0x7f2571987220>"
      ]
     },
     "execution_count": 96,
     "metadata": {},
     "output_type": "execute_result"
    },
    {
     "data": {
      "image/png": "[encoded data removed]",
      "text/plain": [
       "<Figure size 640x480 with 1 Axes>"
      ]
     },
     "metadata": {},
     "output_type": "display_data"
    }
   ],
   "source": [
    "plt.imshow(brush_stroke_mask(FLAGS)[0])"
   ]
  },
  {
   "cell_type": "code",
   "execution_count": 99,
   "metadata": {},
   "outputs": [
    {
     "data": {
      "text/plain": [
       "torch.Size([1, 256, 256])"
      ]
     },
     "execution_count": 99,
     "metadata": {},
     "output_type": "execute_result"
    }
   ],
   "source": [
    "inpainter.generate_mask().shape"
   ]
  },
  {
   "cell_type": "code",
   "execution_count": 102,
   "metadata": {},
   "outputs": [
    {
     "data": {
      "text/plain": [
       "[5, 5]"
      ]
     },
     "execution_count": 102,
     "metadata": {},
     "output_type": "execute_result"
    }
   ],
   "source": [
    "[5] * 2"
   ]
  },
  {
   "cell_type": "code",
   "execution_count": null,
   "metadata": {},
   "outputs": [],
   "source": []
  }
 ],
 "metadata": {
  "kernelspec": {
   "display_name": "base",
   "language": "python",
   "name": "python3"
  },
  "language_info": {
   "codemirror_mode": {
    "name": "ipython",
    "version": 3
   },
   "file_extension": ".py",
   "mimetype": "text/x-python",
   "name": "python",
   "nbconvert_exporter": "python",
   "pygments_lexer": "ipython3",
   "version": "3.10.9"
  }
 },
 "nbformat": 4,
 "nbformat_minor": 2
}
