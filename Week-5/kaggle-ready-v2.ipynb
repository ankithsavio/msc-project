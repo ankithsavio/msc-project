{
 "cells": [
  {
   "cell_type": "code",
   "execution_count": 1,
   "metadata": {},
   "outputs": [
    {
     "name": "stdout",
     "output_type": "stream",
     "text": [
      "Device in use: cuda:0\n"
     ]
    }
   ],
   "source": [
    "import numpy as np\n",
    "import torch\n",
    "import matplotlib.pyplot as plt\n",
    "from tifffile import imsave, imread\n",
    "import os\n",
    "\n",
    "os.chdir('/mnt/c/Users/ankit/Desktop/Msc AIML/msc-project/GAP/gap')\n",
    "from BinomDatasetv4 import BinomDataset \n",
    "from GAP_UNET_ResBlockv3 import UN\n",
    "from tasks import inpainting\n",
    "\n",
    "import pytorch_lightning as pl\n",
    "from pytorch_lightning.callbacks import LearningRateMonitor, ModelCheckpoint, EarlyStopping\n",
    "import torch.utils.data as dt\n",
    "\n",
    "if not torch.cuda.is_available():\n",
    "    raise ValueError(\"GPU not found, code will run on CPU and can be extremely slow!\")\n",
    "else:\n",
    "    device = torch.device(\"cuda:0\")\n",
    "\n",
    "print(f'Device in use: {device}')"
   ]
  },
  {
   "cell_type": "code",
   "execution_count": 2,
   "metadata": {},
   "outputs": [
    {
     "name": "stdout",
     "output_type": "stream",
     "text": [
      "(2048, 512, 512)\n"
     ]
    }
   ],
   "source": [
    "data = np.concatenate((imread('/mnt/c/Users/ankit/Desktop/Msc AIML/Data/convallaria/trainingDataGT.tif'), imread('/mnt/c/Users/ankit/Desktop/Msc AIML/Data/convallaria/testDataGT.tif')))\n",
    "# plt.imshow(data[0])\n",
    "print(data.shape)"
   ]
  },
  {
   "cell_type": "code",
   "execution_count": 3,
   "metadata": {},
   "outputs": [],
   "source": [
    "name = 'm40tom5-256x256-inpainting-trial'\n",
    "minpsnr = -40\n",
    "maxpsnr = -5\n",
    "CHECKPOINT_PATH = '/mnt/c/Users/ankit/Desktop/Msc AIML/Data/checkpoints/models/'"
   ]
  },
  {
   "cell_type": "code",
   "execution_count": 4,
   "metadata": {},
   "outputs": [],
   "source": [
    "maxepochs = 2\n",
    "\n",
    "# masks = inpainting()\n",
    "# mask = torch.from_numpy(masks.generate_mask())\n",
    "\n",
    "dataset = BinomDataset(data = data[:round(data.shape[0]*0.9)], windowSize= 256, minPSNR=minpsnr, maxPSNR=maxpsnr)\n",
    "val_dataset = BinomDataset(data = data[round(data.shape[0]*0.9):], windowSize=256, minPSNR=minpsnr, maxPSNR=maxpsnr)\n",
    "\n",
    "train_loader = dt.DataLoader(dataset, batch_size=1, shuffle=True, drop_last=True, pin_memory=False, num_workers=1) ## Changing the batch size from 32 to 16 to fit inside the gpu\n",
    "val_loader = dt.DataLoader(val_dataset, batch_size=1, shuffle=False, drop_last=False,  pin_memory=False, num_workers=1)\n",
    "\n",
    "trainer = pl.Trainer(default_root_dir=os.path.join(CHECKPOINT_PATH, name), gradient_clip_val=0.5,\n",
    "                     accelerator= 'gpu',\n",
    "                     max_epochs=maxepochs, \n",
    "                     callbacks=[ModelCheckpoint(save_weights_only=True, mode=\"min\", monitor=\"val_loss\", every_n_epochs = 5, filename= name, dirpath= CHECKPOINT_PATH),\n",
    "                                LearningRateMonitor(\"epoch\"),\n",
    "                                EarlyStopping('val_loss', patience=2000)])\n",
    "\n",
    "model = UN(channels = 1, levels=1, depth=2,\n",
    "           start_filts=28, up_mode = 'transpose').to(device)"
   ]
  }
 ],
 "metadata": {
  "kernelspec": {
   "display_name": "base",
   "language": "python",
   "name": "python3"
  },
  "language_info": {
   "codemirror_mode": {
    "name": "ipython",
    "version": 3
   },
   "file_extension": ".py",
   "mimetype": "text/x-python",
   "name": "python",
   "nbconvert_exporter": "python",
   "pygments_lexer": "ipython3",
   "version": "3.10.9"
  }
 },
 "nbformat": 4,
 "nbformat_minor": 2
}
