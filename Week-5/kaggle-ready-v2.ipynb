{
 "cells": [
  {
   "cell_type": "code",
   "execution_count": 1,
   "metadata": {},
   "outputs": [
    {
     "name": "stdout",
     "output_type": "stream",
     "text": [
      "Device in use: cuda:0\n"
     ]
    }
   ],
   "source": [
    "import numpy as np\n",
    "import torch\n",
    "import matplotlib.pyplot as plt\n",
    "from tifffile import imsave, imread\n",
    "import os\n",
    "\n",
    "os.chdir('/mnt/c/Users/ankit/Desktop/Msc AIML/msc-project/GAP/gap')\n",
    "from BinomDatasetv4 import BinomDataset \n",
    "from GAP_UNET_ResBlockv3 import UN\n",
    "from tasks import inpainting\n",
    "\n",
    "import pytorch_lightning as pl\n",
    "from pytorch_lightning.callbacks import LearningRateMonitor, ModelCheckpoint, EarlyStopping\n",
    "import torch.utils.data as dt\n",
    "\n",
    "if not torch.cuda.is_available():\n",
    "    raise ValueError(\"GPU not found, code will run on CPU and can be extremely slow!\")\n",
    "else:\n",
    "    device = torch.device(\"cuda:0\")\n",
    "\n",
    "print(f'Device in use: {device}')"
   ]
  },
  {
   "cell_type": "code",
   "execution_count": 2,
   "metadata": {},
   "outputs": [
    {
     "name": "stdout",
     "output_type": "stream",
     "text": [
      "(2048, 512, 512)\n"
     ]
    }
   ],
   "source": [
    "data = np.concatenate((imread('/mnt/c/Users/ankit/Desktop/Msc AIML/Data/convallaria/trainingDataGT.tif'), imread('/mnt/c/Users/ankit/Desktop/Msc AIML/Data/convallaria/testDataGT.tif')))\n",
    "# plt.imshow(data[0])\n",
    "print(data.shape)"
   ]
  },
  {
   "cell_type": "code",
   "execution_count": 3,
   "metadata": {},
   "outputs": [],
   "source": [
    "name = 'm40tom5-256x256-inpainting-trial'\n",
    "minpsnr = -40\n",
    "maxpsnr = -5\n",
    "CHECKPOINT_PATH = '/mnt/c/Users/ankit/Desktop/Msc AIML/Data/checkpoints/models/'"
   ]
  },
  {
   "cell_type": "code",
   "execution_count": 4,
   "metadata": {},
   "outputs": [
    {
     "name": "stderr",
     "output_type": "stream",
     "text": [
      "GPU available: True (cuda), used: True\n",
      "TPU available: False, using: 0 TPU cores\n",
      "HPU available: False, using: 0 HPUs\n",
      "/home/ankith/anaconda3/envs/rsenv/lib/python3.10/site-packages/pytorch_lightning/trainer/connectors/logger_connector/logger_connector.py:75: Starting from v1.9.0, `tensorboardX` has been removed as a dependency of the `pytorch_lightning` package, due to potential conflicts with other packages in the ML ecosystem. For this reason, `logger=True` will use `CSVLogger` as the default logger, unless the `tensorboard` or `tensorboardX` packages are found. Please `pip install lightning[extra]` or one of them to enable TensorBoard support by default\n",
      "/mnt/c/Users/ankit/Desktop/Msc AIML/msc-project/GAP/gap/GAP_UNET_ResBlockv3.py:255: UserWarning: nn.init.xavier_normal is now deprecated in favor of nn.init.xavier_normal_.\n",
      "  init.xavier_normal(m.weight)\n",
      "/mnt/c/Users/ankit/Desktop/Msc AIML/msc-project/GAP/gap/GAP_UNET_ResBlockv3.py:256: UserWarning: nn.init.constant is now deprecated in favor of nn.init.constant_.\n",
      "  init.constant(m.bias, 0)\n"
     ]
    }
   ],
   "source": [
    "maxepochs = 2\n",
    "\n",
    "# masks = inpainting()\n",
    "# mask = torch.from_numpy(masks.generate_mask())\n",
    "\n",
    "dataset = BinomDataset(data = data[:round(data.shape[0]*0.9)], windowSize= 256, minPSNR=minpsnr, maxPSNR=maxpsnr)\n",
    "val_dataset = BinomDataset(data = data[round(data.shape[0]*0.9):], windowSize=256, minPSNR=minpsnr, maxPSNR=maxpsnr)\n",
    "\n",
    "train_loader = dt.DataLoader(dataset, batch_size=1, shuffle=True, drop_last=True, pin_memory=False, num_workers=1) ## Changing the batch size from 32 to 16 to fit inside the gpu\n",
    "val_loader = dt.DataLoader(val_dataset, batch_size=1, shuffle=False, drop_last=False,  pin_memory=False, num_workers=1)\n",
    "\n",
    "trainer = pl.Trainer(default_root_dir=os.path.join(CHECKPOINT_PATH, name), gradient_clip_val=0.5,\n",
    "                     accelerator= 'gpu',\n",
    "                     max_epochs=maxepochs, \n",
    "                     callbacks=[ModelCheckpoint(save_weights_only=True, mode=\"min\", monitor=\"val_loss\", every_n_epochs = 5, filename= name, dirpath= CHECKPOINT_PATH),\n",
    "                                LearningRateMonitor(\"epoch\"),\n",
    "                                EarlyStopping('val_loss', patience=2000)])\n",
    "\n",
    "model = UN(channels = 1, levels=1, depth=2,\n",
    "           start_filts=28, up_mode = 'transpose').to(device)"
   ]
  },
  {
   "cell_type": "code",
   "execution_count": 5,
   "metadata": {},
   "outputs": [
    {
     "name": "stderr",
     "output_type": "stream",
     "text": [
      "/home/ankith/anaconda3/envs/rsenv/lib/python3.10/site-packages/pytorch_lightning/callbacks/model_checkpoint.py:652: Checkpoint directory /mnt/c/Users/ankit/Desktop/Msc AIML/Data/checkpoints/models exists and is not empty.\n",
      "LOCAL_RANK: 0 - CUDA_VISIBLE_DEVICES: [0]\n",
      "\n",
      "  | Name       | Type       | Params | Mode \n",
      "--------------------------------------------------\n",
      "0 | conv_final | Conv2d     | 29     | train\n",
      "1 | down_convs | ModuleList | 237 K  | train\n",
      "2 | up_convs   | ModuleList | 65.2 K | train\n",
      "--------------------------------------------------\n",
      "302 K     Trainable params\n",
      "0         Non-trainable params\n",
      "302 K     Total params\n",
      "1.211     Total estimated model params size (MB)\n"
     ]
    },
    {
     "data": {
      "application/vnd.jupyter.widget-view+json": {
       "model_id": "f7b85bd1e7e0432298b8a7eab71d97ed",
       "version_major": 2,
       "version_minor": 0
      },
      "text/plain": [
       "Sanity Checking: |          | 0/? [00:00<?, ?it/s]"
      ]
     },
     "metadata": {},
     "output_type": "display_data"
    },
    {
     "name": "stderr",
     "output_type": "stream",
     "text": [
      "/home/ankith/anaconda3/envs/rsenv/lib/python3.10/site-packages/pytorch_lightning/trainer/connectors/data_connector.py:424: The 'val_dataloader' does not have many workers which may be a bottleneck. Consider increasing the value of the `num_workers` argument` to `num_workers=15` in the `DataLoader` to improve performance.\n",
      "/home/ankith/anaconda3/envs/rsenv/lib/python3.10/site-packages/pytorch_lightning/trainer/connectors/data_connector.py:424: The 'train_dataloader' does not have many workers which may be a bottleneck. Consider increasing the value of the `num_workers` argument` to `num_workers=15` in the `DataLoader` to improve performance.\n"
     ]
    },
    {
     "data": {
      "application/vnd.jupyter.widget-view+json": {
       "model_id": "8a7c8475a1ff4e9a902467c65fe406ae",
       "version_major": 2,
       "version_minor": 0
      },
      "text/plain": [
       "Training: |          | 0/? [00:00<?, ?it/s]"
      ]
     },
     "metadata": {},
     "output_type": "display_data"
    },
    {
     "data": {
      "application/vnd.jupyter.widget-view+json": {
       "model_id": "8215815ad77340f19cfbce7a30adcf98",
       "version_major": 2,
       "version_minor": 0
      },
      "text/plain": [
       "Validation: |          | 0/? [00:00<?, ?it/s]"
      ]
     },
     "metadata": {},
     "output_type": "display_data"
    },
    {
     "name": "stderr",
     "output_type": "stream",
     "text": [
      "/home/ankith/anaconda3/envs/rsenv/lib/python3.10/site-packages/pytorch_lightning/trainer/call.py:54: Detected KeyboardInterrupt, attempting graceful shutdown...\n"
     ]
    }
   ],
   "source": [
    "trainer.fit(model, train_loader, val_loader)\n",
    "trainer.save_checkpoint(os.path.join(CHECKPOINT_PATH, name)+'.ckpt')"
   ]
  },
  {
   "cell_type": "code",
   "execution_count": 22,
   "metadata": {},
   "outputs": [],
   "source": [
    "img = next(iter(train_loader))"
   ]
  },
  {
   "cell_type": "code",
   "execution_count": 23,
   "metadata": {},
   "outputs": [
    {
     "data": {
      "image/png": "[encoded data removed]",
      "text/plain": [
       "<Figure size 640x480 with 4 Axes>"
      ]
     },
     "metadata": {},
     "output_type": "display_data"
    }
   ],
   "source": [
    "plt.subplot(1, 4 ,1)\n",
    "plt.imshow(img[0][0], 'gray')\n",
    "plt.title('Target')\n",
    "# plt.show()\n",
    "plt.subplot(1, 4 ,2)\n",
    "plt.imshow(img[0][1], 'gray')\n",
    "plt.title('Mask')\n",
    "# plt.show()\n",
    "plt.subplot(1, 4 ,3)\n",
    "plt.imshow(img[0][2], 'gray')\n",
    "plt.title('Cond')\n",
    "# plt.show()\n",
    "plt.subplot(1, 4 ,4)\n",
    "plt.imshow(img[0][3], 'gray')\n",
    "plt.title('Input')\n",
    "plt.show()"
   ]
  },
  {
   "cell_type": "code",
   "execution_count": 12,
   "metadata": {},
   "outputs": [
    {
     "data": {
      "text/plain": [
       "Text(0.5, 1.0, 'Mask')"
      ]
     },
     "execution_count": 12,
     "metadata": {},
     "output_type": "execute_result"
    },
    {
     "data": {
      "image/png": "[encoded data removed]",
      "text/plain": [
       "<Figure size 640x480 with 1 Axes>"
      ]
     },
     "metadata": {},
     "output_type": "display_data"
    }
   ],
   "source": [
    "plt.imshow(img[0][1], 'gray')\n",
    "plt.title('Mask')"
   ]
  },
  {
   "cell_type": "code",
   "execution_count": null,
   "metadata": {},
   "outputs": [],
   "source": []
  }
 ],
 "metadata": {
  "kernelspec": {
   "display_name": "base",
   "language": "python",
   "name": "python3"
  },
  "language_info": {
   "codemirror_mode": {
    "name": "ipython",
    "version": 3
   },
   "file_extension": ".py",
   "mimetype": "text/x-python",
   "name": "python",
   "nbconvert_exporter": "python",
   "pygments_lexer": "ipython3",
   "version": "3.10.9"
  }
 },
 "nbformat": 4,
 "nbformat_minor": 2
}
