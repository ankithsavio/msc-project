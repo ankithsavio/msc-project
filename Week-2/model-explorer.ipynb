{
 "cells": [
  {
   "cell_type": "code",
   "execution_count": 71,
   "metadata": {},
   "outputs": [],
   "source": [
    "import torch\n",
    "import numpy as np\n",
    "import sys\n",
    "import os\n",
    "sys.path.append('/mnt/c/Users/ankit/Desktop/Msc AIML/msc-project/GAP/gap/')\n",
    "from GAP_UNET_ResBlock import UN\n",
    "from GAP_UNET_ResBlock import DownConv\n",
    "from GAP_UNET_ResBlock import UpConv"
   ]
  },
  {
   "cell_type": "code",
   "execution_count": 72,
   "metadata": {},
   "outputs": [
    {
     "name": "stderr",
     "output_type": "stream",
     "text": [
      "/mnt/c/Users/ankit/Desktop/Msc AIML/msc-project/GAP/gap/GAP_UNET_ResBlock.py:258: UserWarning: nn.init.xavier_normal is now deprecated in favor of nn.init.xavier_normal_.\n",
      "  init.xavier_normal(m.weight)\n",
      "/mnt/c/Users/ankit/Desktop/Msc AIML/msc-project/GAP/gap/GAP_UNET_ResBlock.py:259: UserWarning: nn.init.constant is now deprecated in favor of nn.init.constant_.\n",
      "  init.constant(m.bias, 0)\n"
     ]
    }
   ],
   "source": [
    "un = UN(channels= 1, levels= 10, depth = 3, start_filts=28, up_mode = 'transpose')\n",
    "x = torch.randn(1, 1, 256, 256)\n",
    "exported_program = torch.export.export(un, (x,))"
   ]
  },
  {
   "cell_type": "code",
   "execution_count": 73,
   "metadata": {},
   "outputs": [],
   "source": [
    "torch.export.save(exported_program, '../exported-models/gap-unet.pt2')"
   ]
  },
  {
   "cell_type": "code",
   "execution_count": 74,
   "metadata": {},
   "outputs": [],
   "source": [
    "upc = UpConv(in_channels= 1024, out_channels= 512)\n",
    "x = torch.randn(1,1024, 64, 64)\n",
    "bp = torch.randn(1,512, 128, 128)\n",
    "exported_program_2 = torch.export.export(upc, (bp,x,))"
   ]
  },
  {
   "cell_type": "code",
   "execution_count": 75,
   "metadata": {},
   "outputs": [],
   "source": [
    "torch.export.save(exported_program_2, '../exported-models/gap-upconv.pt2')"
   ]
  },
  {
   "cell_type": "code",
   "execution_count": 76,
   "metadata": {},
   "outputs": [],
   "source": [
    "downc = DownConv(in_channels= 512, out_channels= 1024)\n",
    "x = torch.randn(1,512, 128, 128)\n",
    "exported_program_3 = torch.export.export(downc, (x,))"
   ]
  },
  {
   "cell_type": "code",
   "execution_count": 77,
   "metadata": {},
   "outputs": [],
   "source": [
    "torch.export.save(exported_program_3, '../exported-models/gap-downconv.pt2')"
   ]
  }
 ],
 "metadata": {
  "kernelspec": {
   "display_name": "Python 3",
   "language": "python",
   "name": "python3"
  },
  "language_info": {
   "codemirror_mode": {
    "name": "ipython",
    "version": 3
   },
   "file_extension": ".py",
   "mimetype": "text/x-python",
   "name": "python",
   "nbconvert_exporter": "python",
   "pygments_lexer": "ipython3",
   "version": "3.9.13"
  }
 },
 "nbformat": 4,
 "nbformat_minor": 2
}
