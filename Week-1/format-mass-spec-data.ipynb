{
 "cells": [
  {
   "cell_type": "code",
   "execution_count": 1,
   "metadata": {},
   "outputs": [],
   "source": [
    "import os \n",
    "from tifffile import imread, imsave, imwrite\n",
    "import numpy as np\n",
    "import matplotlib.pyplot as plt\n",
    "import torch\n",
    "from torchvision import transforms"
   ]
  },
  {
   "cell_type": "code",
   "execution_count": 7,
   "metadata": {},
   "outputs": [],
   "source": [
    "folder_path = '/mnt/c/Users/ankit/Desktop/Msc AIML/Data/idr0076-ali-metabric/20191219-ftp/METABRIC_IMC/to_public_repository/full_stacks/'\n",
    "output_path = '/mnt/c/Users/ankit/Desktop/Msc AIML/Data/formatted-breast-cancer/'"
   ]
  },
  {
   "cell_type": "code",
   "execution_count": 8,
   "metadata": {},
   "outputs": [
    {
     "name": "stderr",
     "output_type": "stream",
     "text": [
      "/tmp/ipykernel_59099/42791162.py:14: DeprecationWarning: <tifffile.imsave> is deprecated. Use tifffile.imwrite\n",
      "  imsave(output_path + 'trainingData-' + str(i) + '.tiff', data, imagej = True)\n",
      "/tmp/ipykernel_59099/42791162.py:23: DeprecationWarning: <tifffile.imsave> is deprecated. Use tifffile.imwrite\n",
      "  imsave(output_path + 'testData-' + str(i) + '.tiff', data, imagej = True)\n"
     ]
    }
   ],
   "source": [
    "file_paths = [folder_path + f for f in os.listdir(folder_path) if f.endswith('.tiff')]\n",
    "i = 0\n",
    "j = 0\n",
    "train_paths = file_paths[:round(len(file_paths)*0.9)]\n",
    "test_paths = file_paths[round(len(file_paths)*0.9):]\n",
    "\n",
    "for file_path in train_paths:\n",
    "    data = imread(file_path)\n",
    "    _, h, w = data.shape\n",
    "    if h<256 or w<256:\n",
    "        continue\n",
    "    else:\n",
    "        i+=1\n",
    "        imsave(output_path + 'trainingData-' + str(i) + '.tiff', data, imagej = True)\n",
    "\n",
    "for file_path in test_paths:\n",
    "    data = imread(file_path)\n",
    "    _, h, w = data.shape\n",
    "    if h<256 or w<256:\n",
    "        continue\n",
    "    else:\n",
    "        j+=1\n",
    "        imsave(output_path + 'testData-' + str(i) + '.tiff', data, imagej = True)"
   ]
  },
  {
   "cell_type": "markdown",
   "metadata": {},
   "source": [
    "It is not feasible to read file inside the dataloader - takes too much time \n",
    "\n",
    "next promising approach is to crop the data before training"
   ]
  },
  {
   "cell_type": "code",
   "execution_count": 10,
   "metadata": {},
   "outputs": [
    {
     "name": "stdout",
     "output_type": "stream",
     "text": [
      "(50, 256, 256)\n"
     ]
    },
    {
     "name": "stderr",
     "output_type": "stream",
     "text": [
      "/tmp/ipykernel_98191/671716102.py:14: DeprecationWarning: <tifffile.imsave> is deprecated. Use tifffile.imwrite\n",
      "  imsave(output_path + 'trainingData-' + str(i) + '.tif', img, imagej = True)\n"
     ]
    },
    {
     "name": "stdout",
     "output_type": "stream",
     "text": [
      "(50, 256, 256)\n",
      "(50, 256, 256)\n",
      "(50, 256, 256)\n",
      "(50, 256, 256)\n",
      "(50, 256, 256)\n",
      "(50, 256, 256)\n",
      "(50, 256, 256)\n",
      "(50, 256, 256)\n",
      "(50, 256, 256)\n",
      "(50, 256, 256)\n",
      "(50, 256, 256)\n",
      "(50, 256, 256)\n",
      "(50, 256, 256)\n",
      "(50, 256, 256)\n",
      "(50, 256, 256)\n",
      "(50, 256, 256)\n",
      "(50, 256, 256)\n",
      "(50, 256, 256)\n",
      "(50, 256, 256)\n",
      "(50, 256, 256)\n",
      "(50, 256, 256)\n",
      "(50, 256, 256)\n",
      "(50, 256, 256)\n",
      "(50, 256, 256)\n",
      "(50, 256, 256)\n",
      "(50, 256, 256)\n",
      "(50, 256, 256)\n",
      "(50, 256, 256)\n",
      "(50, 256, 256)\n",
      "(50, 256, 256)\n",
      "(50, 256, 256)\n",
      "(50, 256, 256)\n",
      "(50, 256, 256)\n",
      "(50, 256, 256)\n",
      "(50, 256, 256)\n",
      "(50, 256, 256)\n",
      "(50, 256, 256)\n",
      "(50, 256, 256)\n",
      "(50, 256, 256)\n",
      "(50, 256, 256)\n",
      "(50, 256, 256)\n",
      "(50, 256, 256)\n",
      "(50, 256, 256)\n",
      "(50, 256, 256)\n",
      "(50, 256, 256)\n",
      "(50, 256, 256)\n",
      "(50, 256, 256)\n",
      "(50, 256, 256)\n",
      "(50, 256, 256)\n",
      "(50, 256, 256)\n",
      "(50, 256, 256)\n",
      "(50, 256, 256)\n",
      "(50, 256, 256)\n",
      "(50, 256, 256)\n",
      "(50, 256, 256)\n",
      "(50, 256, 256)\n",
      "(50, 256, 256)\n",
      "(50, 256, 256)\n",
      "(50, 256, 256)\n",
      "(50, 256, 256)\n",
      "(50, 256, 256)\n",
      "(50, 256, 256)\n",
      "(50, 256, 256)\n",
      "(50, 256, 256)\n",
      "(50, 256, 256)\n",
      "(50, 256, 256)\n",
      "(50, 256, 256)\n",
      "(50, 256, 256)\n",
      "(50, 256, 256)\n",
      "(50, 256, 256)\n",
      "(50, 256, 256)\n",
      "(50, 256, 256)\n",
      "(50, 256, 256)\n",
      "(50, 256, 256)\n",
      "(50, 256, 256)\n",
      "(50, 256, 256)\n",
      "(50, 256, 256)\n",
      "(50, 256, 256)\n",
      "(50, 256, 256)\n",
      "(50, 256, 256)\n",
      "(50, 256, 256)\n",
      "(50, 256, 256)\n",
      "(50, 256, 256)\n",
      "(50, 256, 256)\n",
      "(50, 256, 256)\n",
      "(50, 256, 256)\n",
      "(50, 256, 256)\n",
      "(50, 256, 256)\n",
      "(50, 256, 256)\n",
      "(50, 256, 256)\n",
      "(50, 256, 256)\n",
      "(50, 256, 256)\n",
      "(50, 256, 256)\n",
      "(50, 256, 256)\n",
      "(50, 256, 256)\n",
      "(50, 256, 256)\n",
      "(50, 256, 256)\n",
      "(50, 256, 256)\n",
      "(50, 256, 256)\n",
      "(50, 256, 256)\n",
      "(50, 256, 256)\n",
      "(50, 256, 256)\n",
      "(50, 256, 256)\n",
      "(50, 256, 256)\n",
      "(50, 256, 256)\n",
      "(50, 256, 256)\n",
      "(50, 256, 256)\n",
      "(50, 256, 256)\n",
      "(50, 256, 256)\n",
      "(50, 256, 256)\n",
      "(50, 256, 256)\n",
      "(50, 256, 256)\n",
      "(50, 256, 256)\n",
      "(50, 256, 256)\n",
      "(50, 256, 256)\n",
      "(50, 256, 256)\n",
      "(50, 256, 256)\n",
      "(50, 256, 256)\n",
      "(50, 256, 256)\n",
      "(50, 256, 256)\n",
      "(50, 256, 256)\n",
      "(50, 256, 256)\n",
      "(50, 256, 256)\n",
      "(50, 256, 256)\n",
      "(50, 256, 256)\n",
      "(50, 256, 256)\n",
      "(50, 256, 256)\n",
      "(50, 256, 256)\n",
      "(50, 256, 256)\n",
      "(50, 256, 256)\n",
      "(50, 256, 256)\n",
      "(50, 256, 256)\n",
      "(50, 256, 256)\n",
      "(50, 256, 256)\n",
      "(50, 256, 256)\n",
      "(50, 256, 256)\n",
      "(50, 256, 256)\n",
      "(50, 256, 256)\n",
      "(50, 256, 256)\n",
      "(50, 256, 256)\n",
      "(50, 256, 256)\n",
      "(50, 256, 256)\n",
      "(50, 256, 256)\n",
      "(50, 256, 256)\n",
      "(50, 256, 256)\n",
      "(50, 256, 256)\n",
      "(50, 256, 256)\n",
      "(50, 256, 256)\n",
      "(50, 256, 256)\n",
      "(50, 256, 256)\n",
      "(50, 256, 256)\n",
      "(50, 256, 256)\n",
      "(50, 256, 256)\n",
      "(50, 256, 256)\n",
      "(50, 256, 256)\n",
      "(50, 256, 256)\n",
      "(50, 256, 256)\n",
      "(50, 256, 256)\n",
      "(50, 256, 256)\n",
      "(50, 256, 256)\n",
      "(50, 256, 256)\n",
      "(50, 256, 256)\n",
      "(50, 256, 256)\n",
      "(50, 256, 256)\n",
      "(50, 256, 256)\n",
      "(50, 256, 256)\n",
      "(50, 256, 256)\n",
      "(50, 256, 256)\n",
      "(50, 256, 256)\n",
      "(50, 256, 256)\n",
      "(50, 256, 256)\n",
      "(50, 256, 256)\n",
      "(50, 256, 256)\n",
      "(50, 256, 256)\n",
      "(50, 256, 256)\n",
      "(50, 256, 256)\n",
      "(50, 256, 256)\n",
      "(50, 256, 256)\n",
      "(50, 256, 256)\n",
      "(50, 256, 256)\n",
      "(50, 256, 256)\n",
      "(50, 256, 256)\n",
      "(50, 256, 256)\n",
      "(50, 256, 256)\n",
      "(50, 256, 256)\n",
      "(50, 256, 256)\n",
      "(50, 256, 256)\n",
      "(50, 256, 256)\n",
      "(50, 256, 256)\n",
      "(50, 256, 256)\n",
      "(50, 256, 256)\n",
      "(50, 256, 256)\n",
      "(50, 256, 256)\n",
      "(50, 256, 256)\n",
      "(50, 256, 256)\n",
      "(50, 256, 256)\n",
      "(50, 256, 256)\n",
      "(50, 256, 256)\n",
      "(50, 256, 256)\n",
      "(50, 256, 256)\n",
      "(50, 256, 256)\n",
      "(50, 256, 256)\n",
      "(50, 256, 256)\n",
      "(50, 256, 256)\n",
      "(50, 256, 256)\n",
      "(50, 256, 256)\n",
      "(50, 256, 256)\n",
      "(50, 256, 256)\n",
      "(50, 256, 256)\n",
      "(50, 256, 256)\n",
      "(50, 256, 256)\n",
      "(50, 256, 256)\n",
      "(50, 256, 256)\n",
      "(50, 256, 256)\n",
      "(50, 256, 256)\n",
      "(50, 256, 256)\n",
      "(50, 256, 256)\n",
      "(50, 256, 256)\n",
      "(50, 256, 256)\n",
      "(50, 256, 256)\n",
      "(50, 256, 256)\n",
      "(50, 256, 256)\n",
      "(50, 256, 256)\n",
      "(50, 256, 256)\n",
      "(50, 256, 256)\n",
      "(50, 256, 256)\n",
      "(50, 256, 256)\n",
      "(50, 256, 256)\n",
      "(50, 256, 256)\n",
      "(50, 256, 256)\n",
      "(50, 256, 256)\n",
      "(50, 256, 256)\n",
      "(50, 256, 256)\n",
      "(50, 256, 256)\n",
      "(50, 256, 256)\n",
      "(50, 256, 256)\n",
      "(50, 256, 256)\n",
      "(50, 256, 256)\n",
      "(50, 256, 256)\n",
      "(50, 256, 256)\n",
      "(50, 256, 256)\n",
      "(50, 256, 256)\n",
      "(50, 256, 256)\n",
      "(50, 256, 256)\n",
      "(50, 256, 256)\n",
      "(50, 256, 256)\n",
      "(50, 256, 256)\n",
      "(50, 256, 256)\n",
      "(50, 256, 256)\n",
      "(50, 256, 256)\n",
      "(50, 256, 256)\n",
      "(50, 256, 256)\n",
      "(50, 256, 256)\n",
      "(50, 256, 256)\n",
      "(50, 256, 256)\n",
      "(50, 256, 256)\n",
      "(50, 256, 256)\n",
      "(50, 256, 256)\n",
      "(50, 256, 256)\n",
      "(50, 256, 256)\n",
      "(50, 256, 256)\n",
      "(50, 256, 256)\n",
      "(50, 256, 256)\n",
      "(50, 256, 256)\n",
      "(50, 256, 256)\n",
      "(50, 256, 256)\n",
      "(50, 256, 256)\n",
      "(50, 256, 256)\n",
      "(50, 256, 256)\n",
      "(50, 256, 256)\n",
      "(50, 256, 256)\n",
      "(50, 256, 256)\n",
      "(50, 256, 256)\n",
      "(50, 256, 256)\n",
      "(50, 256, 256)\n",
      "(50, 256, 256)\n",
      "(50, 256, 256)\n",
      "(50, 256, 256)\n",
      "(50, 256, 256)\n",
      "(50, 256, 256)\n",
      "(50, 256, 256)\n",
      "(50, 256, 256)\n",
      "(50, 256, 256)\n",
      "(50, 256, 256)\n",
      "(50, 256, 256)\n",
      "(50, 256, 256)\n",
      "(50, 256, 256)\n",
      "(50, 256, 256)\n",
      "(50, 256, 256)\n",
      "(50, 256, 256)\n",
      "(50, 256, 256)\n",
      "(50, 256, 256)\n",
      "(50, 256, 256)\n",
      "(50, 256, 256)\n",
      "(50, 256, 256)\n",
      "(50, 256, 256)\n",
      "(50, 256, 256)\n",
      "(50, 256, 256)\n",
      "(50, 256, 256)\n",
      "(50, 256, 256)\n",
      "(50, 256, 256)\n",
      "(50, 256, 256)\n",
      "(50, 256, 256)\n",
      "(50, 256, 256)\n",
      "(50, 256, 256)\n",
      "(50, 256, 256)\n",
      "(50, 256, 256)\n",
      "(50, 256, 256)\n",
      "(50, 256, 256)\n",
      "(50, 256, 256)\n",
      "(50, 256, 256)\n",
      "(50, 256, 256)\n",
      "(50, 256, 256)\n",
      "(50, 256, 256)\n",
      "(50, 256, 256)\n",
      "(50, 256, 256)\n",
      "(50, 256, 256)\n",
      "(50, 256, 256)\n",
      "(50, 256, 256)\n",
      "(50, 256, 256)\n",
      "(50, 256, 256)\n",
      "(50, 256, 256)\n",
      "(50, 256, 256)\n",
      "(50, 256, 256)\n",
      "(50, 256, 256)\n",
      "(50, 256, 256)\n",
      "(50, 256, 256)\n",
      "(50, 256, 256)\n",
      "(50, 256, 256)\n",
      "(50, 256, 256)\n",
      "(50, 256, 256)\n",
      "(50, 256, 256)\n",
      "(50, 256, 256)\n",
      "(50, 256, 256)\n",
      "(50, 256, 256)\n",
      "(50, 256, 256)\n",
      "(50, 256, 256)\n",
      "(50, 256, 256)\n",
      "(50, 256, 256)\n",
      "(50, 256, 256)\n",
      "(50, 256, 256)\n",
      "(50, 256, 256)\n",
      "(50, 256, 256)\n",
      "(50, 256, 256)\n",
      "(50, 256, 256)\n",
      "(50, 256, 256)\n",
      "(50, 256, 256)\n",
      "(50, 256, 256)\n",
      "(50, 256, 256)\n",
      "(50, 256, 256)\n",
      "(50, 256, 256)\n",
      "(50, 256, 256)\n",
      "(50, 256, 256)\n",
      "(50, 256, 256)\n",
      "(50, 256, 256)\n",
      "(50, 256, 256)\n",
      "(50, 256, 256)\n",
      "(50, 256, 256)\n",
      "(50, 256, 256)\n",
      "(50, 256, 256)\n",
      "(50, 256, 256)\n",
      "(50, 256, 256)\n",
      "(50, 256, 256)\n",
      "(50, 256, 256)\n",
      "(50, 256, 256)\n",
      "(50, 256, 256)\n",
      "(50, 256, 256)\n",
      "(50, 256, 256)\n",
      "(50, 256, 256)\n",
      "(50, 256, 256)\n",
      "(50, 256, 256)\n",
      "(50, 256, 256)\n",
      "(50, 256, 256)\n",
      "(50, 256, 256)\n",
      "(50, 256, 256)\n",
      "(50, 256, 256)\n",
      "(50, 256, 256)\n",
      "(50, 256, 256)\n",
      "(50, 256, 256)\n",
      "(50, 256, 256)\n",
      "(50, 256, 256)\n",
      "(50, 256, 256)\n",
      "(50, 256, 256)\n",
      "(50, 256, 256)\n",
      "(50, 256, 256)\n",
      "(50, 256, 256)\n",
      "(50, 256, 256)\n",
      "(50, 256, 256)\n",
      "(50, 256, 256)\n",
      "(50, 256, 256)\n",
      "(50, 256, 256)\n",
      "(50, 256, 256)\n",
      "(50, 256, 256)\n",
      "(50, 256, 256)\n",
      "(50, 256, 256)\n",
      "(50, 256, 256)\n",
      "(50, 256, 256)\n",
      "(50, 256, 256)\n",
      "(50, 256, 256)\n",
      "(50, 256, 256)\n",
      "(50, 256, 256)\n",
      "(50, 256, 256)\n",
      "(50, 256, 256)\n",
      "(50, 256, 256)\n",
      "(50, 256, 256)\n",
      "(50, 256, 256)\n",
      "(50, 256, 256)\n",
      "(50, 256, 256)\n",
      "(50, 256, 256)\n",
      "(50, 256, 256)\n",
      "(50, 256, 256)\n",
      "(50, 256, 256)\n",
      "(50, 256, 256)\n",
      "(50, 256, 256)\n",
      "(50, 256, 256)\n",
      "(50, 256, 256)\n",
      "(50, 256, 256)\n",
      "(50, 256, 256)\n",
      "(50, 256, 256)\n",
      "(50, 256, 256)\n",
      "(50, 256, 256)\n",
      "(50, 256, 256)\n",
      "(50, 256, 256)\n",
      "(50, 256, 256)\n",
      "(50, 256, 256)\n"
     ]
    }
   ],
   "source": [
    "folder_path = '/mnt/c/Users/ankit/Desktop/Msc AIML/Data/formatted-breast-cancer/'\n",
    "output_path = '/mnt/c/Users/ankit/Desktop/Msc AIML/Data/formatted-breast-cancer/cropped/'\n",
    "\n",
    "data_paths = [folder_path + f for f in os.listdir(folder_path) if f.startswith('trainingData-')]\n",
    "\n",
    "windowSize = 256\n",
    "crop = transforms.RandomCrop(windowSize)\n",
    "i = 0\n",
    "for data_path in data_paths:\n",
    "    img = imread(data_path)\n",
    "    img = crop(torch.from_numpy(img)).numpy()\n",
    "    # print(img.shape)\n",
    "    i+=1\n",
    "    imsave(output_path + 'trainingData-' + str(i) + '.tif', img, imagej = True)"
   ]
  },
  {
   "cell_type": "code",
   "execution_count": 11,
   "metadata": {},
   "outputs": [
    {
     "name": "stderr",
     "output_type": "stream",
     "text": [
      "/tmp/ipykernel_98191/1844176814.py:14: DeprecationWarning: <tifffile.imsave> is deprecated. Use tifffile.imwrite\n",
      "  imsave(output_path + 'testData-' + str(i) + '.tif', img, imagej = True)\n"
     ]
    }
   ],
   "source": [
    "folder_path = '/mnt/c/Users/ankit/Desktop/Msc AIML/Data/formatted-breast-cancer/'\n",
    "output_path = '/mnt/c/Users/ankit/Desktop/Msc AIML/Data/formatted-breast-cancer/cropped/'\n",
    "\n",
    "data_paths = [folder_path + f for f in os.listdir(folder_path) if f.startswith('testData-')]\n",
    "\n",
    "windowSize = 256\n",
    "crop = transforms.RandomCrop(windowSize)\n",
    "i = 0\n",
    "for data_path in data_paths:\n",
    "    img = imread(data_path)\n",
    "    img = crop(torch.from_numpy(img)).numpy()\n",
    "    # print(img.shape)\n",
    "    i+=1\n",
    "    imsave(output_path + 'testData-' + str(i) + '.tif', img, imagej = True)"
   ]
  },
  {
   "cell_type": "markdown",
   "metadata": {},
   "source": [
    "Sloppy method to do it. Kernel kept dying on me! Find reason why!"
   ]
  },
  {
   "cell_type": "code",
   "execution_count": 2,
   "metadata": {},
   "outputs": [
    {
     "data": {
      "text/plain": [
       "(10000, 256, 256)"
      ]
     },
     "execution_count": 2,
     "metadata": {},
     "output_type": "execute_result"
    }
   ],
   "source": [
    "folder_path = '/mnt/c/Users/ankit/Desktop/Msc AIML/Data/formatted-breast-cancer/cropped/'\n",
    "data_paths = [folder_path + f for f in os.listdir(folder_path) if f.startswith('trainingData-')]\n",
    "\n",
    "data = np.concatenate([imread(data_path) for data_path in data_paths[:200]], axis = 0)\n",
    "# data = torch.cat((torch.from_numpy(imread(data_path)) for data_path in data_paths[:200]), 0)\n",
    "data.shape"
   ]
  },
  {
   "cell_type": "code",
   "execution_count": 3,
   "metadata": {},
   "outputs": [
    {
     "data": {
      "text/plain": [
       "(10000, 256, 256)"
      ]
     },
     "execution_count": 3,
     "metadata": {},
     "output_type": "execute_result"
    }
   ],
   "source": [
    "data2 = np.concatenate([imread(data_path) for data_path in data_paths[200:400]], axis = 0)\n",
    "data2.shape"
   ]
  },
  {
   "cell_type": "code",
   "execution_count": 4,
   "metadata": {},
   "outputs": [
    {
     "data": {
      "text/plain": [
       "(1300, 256, 256)"
      ]
     },
     "execution_count": 4,
     "metadata": {},
     "output_type": "execute_result"
    }
   ],
   "source": [
    "data3 = np.concatenate([imread(data_path) for data_path in data_paths[400:]], axis = 0)\n",
    "data3.shape"
   ]
  },
  {
   "cell_type": "code",
   "execution_count": 5,
   "metadata": {},
   "outputs": [
    {
     "name": "stderr",
     "output_type": "stream",
     "text": [
      "/tmp/ipykernel_17866/3856363549.py:1: DeprecationWarning: <tifffile.imsave> is deprecated. Use tifffile.imwrite\n",
      "  imsave(folder_path + 'Concat-1.tif', data, imagej = True)\n"
     ]
    }
   ],
   "source": [
    "imsave(folder_path + 'trainingDataPart-1.tif', data, imagej = True)"
   ]
  },
  {
   "cell_type": "code",
   "execution_count": 6,
   "metadata": {},
   "outputs": [
    {
     "name": "stderr",
     "output_type": "stream",
     "text": [
      "/tmp/ipykernel_17866/2809164142.py:1: DeprecationWarning: <tifffile.imsave> is deprecated. Use tifffile.imwrite\n",
      "  imsave(folder_path + 'Concat-2.tif', data2, imagej = True)\n"
     ]
    }
   ],
   "source": [
    "imsave(folder_path + 'trainingDataPart-2.tif', data2, imagej = True)"
   ]
  },
  {
   "cell_type": "code",
   "execution_count": 7,
   "metadata": {},
   "outputs": [
    {
     "name": "stderr",
     "output_type": "stream",
     "text": [
      "/tmp/ipykernel_17866/3501353217.py:1: DeprecationWarning: <tifffile.imsave> is deprecated. Use tifffile.imwrite\n",
      "  imsave(folder_path + 'Concat-3.tif', data3, imagej = True)\n"
     ]
    }
   ],
   "source": [
    "imsave(folder_path + 'trainingDataPart-3.tif', data3, imagej = True)"
   ]
  },
  {
   "cell_type": "code",
   "execution_count": 2,
   "metadata": {},
   "outputs": [
    {
     "data": {
      "text/plain": [
       "(torch.Size([10000, 256, 256]),\n",
       " torch.Size([10000, 256, 256]),\n",
       " torch.Size([1300, 256, 256]))"
      ]
     },
     "execution_count": 2,
     "metadata": {},
     "output_type": "execute_result"
    }
   ],
   "source": [
    "folder_path = '/mnt/c/Users/ankit/Desktop/Msc AIML/Data/formatted-breast-cancer/cropped/'\n",
    "data_paths = [folder_path + f for f in os.listdir(folder_path) if f.startswith('trainingDataPart-')]\n",
    "tensor1 = torch.from_numpy(imread(data_paths[0]))\n",
    "tensor2 = torch.from_numpy(imread(data_paths[1]))\n",
    "tensor3 = torch.from_numpy(imread(data_paths[2]))\n",
    "\n",
    "tensor1.shape, tensor2.shape, tensor3.shape"
   ]
  },
  {
   "cell_type": "code",
   "execution_count": 3,
   "metadata": {},
   "outputs": [
    {
     "ename": "",
     "evalue": "",
     "output_type": "error",
     "traceback": [
      "\u001b[1;31mThe Kernel crashed while executing code in the current cell or a previous cell. \n",
      "\u001b[1;31mPlease review the code in the cell(s) to identify a possible cause of the failure. \n",
      "\u001b[1;31mClick <a href='https://aka.ms/vscodeJupyterKernelCrash'>here</a> for more info. \n",
      "\u001b[1;31mView Jupyter <a href='command:jupyter.viewOutput'>log</a> for further details."
     ]
    }
   ],
   "source": [
    "data = torch.cat((tensor1, tensor2, tensor3), 0)"
   ]
  },
  {
   "cell_type": "markdown",
   "metadata": {},
   "source": [
    "kernel keeps dying, lets try with 200 images alone"
   ]
  },
  {
   "cell_type": "code",
   "execution_count": null,
   "metadata": {},
   "outputs": [],
   "source": []
  }
 ],
 "metadata": {
  "kernelspec": {
   "display_name": "gap",
   "language": "python",
   "name": "python3"
  },
  "language_info": {
   "codemirror_mode": {
    "name": "ipython",
    "version": 3
   },
   "file_extension": ".py",
   "mimetype": "text/x-python",
   "name": "python",
   "nbconvert_exporter": "python",
   "pygments_lexer": "ipython3",
   "version": "3.9.13"
  }
 },
 "nbformat": 4,
 "nbformat_minor": 2
}
